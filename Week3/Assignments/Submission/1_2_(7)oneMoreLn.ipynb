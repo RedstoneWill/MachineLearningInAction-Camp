{
 "cells": [
  {
   "cell_type": "markdown",
   "metadata": {},
   "source": [
    "# 5.逻辑回归\n",
    "## 调包"
   ]
  },
  {
   "cell_type": "code",
   "execution_count": 22,
   "metadata": {
    "collapsed": true
   },
   "outputs": [],
   "source": [
    "import numpy as np\n",
    "import matplotlib.pyplot as plt"
   ]
  },
  {
   "cell_type": "markdown",
   "metadata": {},
   "source": [
    "## 5.1.训练算法：使用梯度上升找到最佳参数\n",
    "### 5.1.1.读取数据"
   ]
  },
  {
   "cell_type": "code",
   "execution_count": 3,
   "metadata": {
    "collapsed": true
   },
   "outputs": [],
   "source": [
    "def loadDataSet():\n",
    "    \"\"\"\n",
    "    读取数据集\n",
    "    参数：\n",
    "        无\n",
    "    返回：\n",
    "        dataMat -- 数据矩阵\n",
    "        labelMat -- 标签矩阵\n",
    "    \"\"\"\n",
    "    #初始化两个矩阵\n",
    "    dataMat = []; labelMat = []\n",
    "    #打开测试文件\n",
    "    fr = open('testSet.txt')\n",
    "    #读取每一行\n",
    "    for line in fr.readlines():\n",
    "        #分割\n",
    "        lineArr = line.strip().split()\n",
    "        #添加到数据矩阵\n",
    "        dataMat.append([1.0, np.float(lineArr[0]), np.float(lineArr[1])])\n",
    "        #添加到标签矩阵\n",
    "        labelMat.append(np.int(lineArr[2]))\n",
    "    return dataMat,labelMat"
   ]
  },
  {
   "cell_type": "markdown",
   "metadata": {},
   "source": [
    "### 5.1.2.sigmoid函数"
   ]
  },
  {
   "cell_type": "code",
   "execution_count": 4,
   "metadata": {
    "collapsed": true
   },
   "outputs": [],
   "source": [
    "def sigmoid(inX):\n",
    "    return 1.0 / (1 + np.exp(-inX))"
   ]
  },
  {
   "cell_type": "markdown",
   "metadata": {},
   "source": [
    "### 5.1.3.梯度上升函数"
   ]
  },
  {
   "cell_type": "code",
   "execution_count": 20,
   "metadata": {
    "collapsed": true
   },
   "outputs": [],
   "source": [
    "def gradAscent(dataMatIn, classLabels):\n",
    "    \"\"\"\n",
    "    梯度上升函数\n",
    "    参数：\n",
    "        dataMatIn -- 输入数据矩阵\n",
    "        classLabels -- 类标签\n",
    "    返回：\n",
    "        weights -- 权重参数\n",
    "    \"\"\"\n",
    "    #转化为np矩阵\n",
    "    dataMatrix = np.array(dataMatIn)\n",
    "    labelMat = np.array(classLabels).reshape(-1, 1)\n",
    "    #得到数据矩阵维度，分别为样本数和特征数\n",
    "    m,n = dataMatrix.shape\n",
    "    #学习率\n",
    "    alpha = 0.001\n",
    "    #最大迭代次数\n",
    "    maxCycles = 500\n",
    "    #初始化参数\n",
    "    weights = np.ones((n,1))\n",
    "    #迭代\n",
    "    for k in range(maxCycles):\n",
    "        #预测值\n",
    "        h = sigmoid(np.dot(dataMatrix,weights))\n",
    "        #误差\n",
    "        error = (labelMat - h)\n",
    "        #更新参数\n",
    "        weights = weights + alpha * np.dot(dataMatrix.T, error)\n",
    "    return weights"
   ]
  },
  {
   "cell_type": "markdown",
   "metadata": {},
   "source": [
    "测试"
   ]
  },
  {
   "cell_type": "code",
   "execution_count": 26,
   "metadata": {},
   "outputs": [
    {
     "name": "stdout",
     "output_type": "stream",
     "text": [
      "学习到的权重为[[ 4.12414349]\n",
      " [ 0.48007329]\n",
      " [-0.6168482 ]]\n"
     ]
    }
   ],
   "source": [
    "dataArr, labelMat = loadDataSet()\n",
    "weights = gradAscent(dataArr, labelMat)\n",
    "print(\"学习到的权重为{}\".format(weights))"
   ]
  },
  {
   "cell_type": "markdown",
   "metadata": {},
   "source": [
    "## 5.2.分析数据：画出决策边界 "
   ]
  },
  {
   "cell_type": "code",
   "execution_count": 36,
   "metadata": {
    "collapsed": true
   },
   "outputs": [],
   "source": [
    "def plotBestFit(weights):\n",
    "    \"\"\"\n",
    "    画出决策边界\n",
    "    参数：\n",
    "        weights -- 权重参数\n",
    "    返回：\n",
    "        无 -- 直接画图\n",
    "    \"\"\"\n",
    "    #读取数据\n",
    "    dataMat,labelMat=loadDataSet()\n",
    "    #数据矩阵\n",
    "    dataArr = np.array(dataMat)\n",
    "    #得到数据点的个数\n",
    "    n = dataArr.shape[0]\n",
    "    #不同类别的数据的横纵坐标记录列表\n",
    "    xcord1 = []; ycord1 = []\n",
    "    xcord2 = []; ycord2 = []\n",
    "    #遍历数据点\n",
    "    for i in range(n):\n",
    "        if np.int(labelMat[i])== 1:\n",
    "            xcord1.append(dataArr[i,1]); ycord1.append(dataArr[i,2])\n",
    "        else:\n",
    "            xcord2.append(dataArr[i,1]); ycord2.append(dataArr[i,2])\n",
    "    #新建画布\n",
    "    fig = plt.figure()\n",
    "    #新建轴\n",
    "    ax = fig.add_subplot(111)\n",
    "    #绘制类型1的散点图\n",
    "    ax.scatter(xcord1, ycord1, s=30, c='red', marker='s')\n",
    "    #绘制类型0的散点图\n",
    "    ax.scatter(xcord2, ycord2, s=30, c='green')\n",
    "    #绘制决策边界\n",
    "    #x取值范围\n",
    "    x = np.arange(-3.0, 3.0, 0.1)\n",
    "    #按照学习的权重求y=-(w0+w1*x)/w2\n",
    "    y = (-weights[0]-weights[1]*x)/weights[2]\n",
    "    #绘制决策直线\n",
    "    ax.plot(x, y)\n",
    "    #轴标记文本\n",
    "    plt.xlabel('X1'); plt.ylabel('X2')\n",
    "    #显示\n",
    "    plt.show()"
   ]
  },
  {
   "cell_type": "markdown",
   "metadata": {},
   "source": [
    "测试"
   ]
  },
  {
   "cell_type": "code",
   "execution_count": 37,
   "metadata": {},
   "outputs": [
    {
     "data": {
      "image/png": "[encoded data removed]",
      "text/plain": [
       "<matplotlib.figure.Figure at 0x154a6f19dd8>"
      ]
     },
     "metadata": {},
     "output_type": "display_data"
    }
   ],
   "source": [
    "plotBestFit(weights)"
   ]
  },
  {
   "cell_type": "markdown",
   "metadata": {},
   "source": [
    "### 5.2.1.随机梯度上升"
   ]
  },
  {
   "cell_type": "code",
   "execution_count": 55,
   "metadata": {
    "collapsed": true
   },
   "outputs": [],
   "source": [
    "def stocGradAscent0(dataMatrix, classLabels):\n",
    "    \"\"\"\n",
    "    随机梯度上升\n",
    "    参数：\n",
    "        dataMatrix -- 数据矩阵\n",
    "        classLabels -- 类别标签\n",
    "    返回：\n",
    "        weights -- 训练后的权重参数\n",
    "    \"\"\"\n",
    "    #确保标签向量为列向量\n",
    "    classLabels = np.array(classLabels).reshape(-1, 1)\n",
    "    #求矩阵维度\n",
    "    m,n = np.shape(dataMatrix)\n",
    "    #学习率\n",
    "    alpha = 0.01\n",
    "    #初始化为全1\n",
    "    weights = np.ones((n, 1))\n",
    "    #遍历每个数据\n",
    "    for i in range(m):\n",
    "        h = sigmoid(np.dot(dataMatrix[i:i+1, :], weights))\n",
    "        error = classLabels[i] - h\n",
    "        weights = weights + alpha * dataMatrix[i:i+1, :].T * error\n",
    "    return weights"
   ]
  },
  {
   "cell_type": "markdown",
   "metadata": {},
   "source": [
    "测试"
   ]
  },
  {
   "cell_type": "code",
   "execution_count": 56,
   "metadata": {},
   "outputs": [
    {
     "name": "stdout",
     "output_type": "stream",
     "text": [
      "[[ 1.01702007]\n",
      " [ 0.85914348]\n",
      " [-0.36579921]]\n"
     ]
    },
    {
     "data": {
      "image/png": "[encoded data removed]",
      "text/plain": [
       "<matplotlib.figure.Figure at 0x154a73c00f0>"
      ]
     },
     "metadata": {},
     "output_type": "display_data"
    }
   ],
   "source": [
    "dataArr, labelMat = loadDataSet()\n",
    "weights0 = stocGradAscent0(np.array(dataArr), labelMat)\n",
    "print(weights0)\n",
    "plotBestFit(weights0)"
   ]
  },
  {
   "cell_type": "markdown",
   "metadata": {},
   "source": [
    "### 5.2.2.改进的随机梯度上升算法"
   ]
  },
  {
   "cell_type": "code",
   "execution_count": 77,
   "metadata": {
    "collapsed": true
   },
   "outputs": [],
   "source": [
    "def stocGradAscent1(dataMatrix, classLabels, numIter=150):\n",
    "    \"\"\"\n",
    "    改进的随机梯度上升算法\n",
    "    参数：\n",
    "        dataMatrix -- 数据矩阵\n",
    "        classLabels -- 标签\n",
    "        numIter -- 迭代次数\n",
    "    返回：\n",
    "        weights -- 训练后的权重参数\n",
    "    \"\"\"\n",
    "    classLabels = np.array(classLabels).reshape(-1, 1)\n",
    "    m,n = np.shape(dataMatrix)\n",
    "    weights = np.ones((n, 1))\n",
    "    for j in range(numIter):\n",
    "        dataIndex = list(range(m))\n",
    "        for i in range(m):\n",
    "            #学习率随迭代的进行而变化\n",
    "            alpha = 4/(1.0+j+i)+0.0001\n",
    "            #随机的参数\n",
    "            randIndex = np.int(np.random.uniform(0,len(dataIndex)))\n",
    "            h = sigmoid(np.dot(dataMatrix[randIndex:randIndex+1, :], weights))\n",
    "            error = classLabels[randIndex:randIndex+1, 0] - h\n",
    "            weights = weights + alpha * error * dataMatrix[randIndex:randIndex+1, :].T\n",
    "            del(dataIndex[randIndex])\n",
    "    return weights"
   ]
  },
  {
   "cell_type": "markdown",
   "metadata": {},
   "source": [
    "测试"
   ]
  },
  {
   "cell_type": "code",
   "execution_count": 79,
   "metadata": {},
   "outputs": [
    {
     "name": "stdout",
     "output_type": "stream",
     "text": [
      "[[ 13.21735665]\n",
      " [  1.07914686]\n",
      " [ -1.91868707]]\n"
     ]
    },
    {
     "data": {
      "image/png": "[encoded data removed]",
      "text/plain": [
       "<matplotlib.figure.Figure at 0x154a67354e0>"
      ]
     },
     "metadata": {},
     "output_type": "display_data"
    }
   ],
   "source": [
    "dataArr, labelMat = loadDataSet()\n",
    "weights1 = stocGradAscent1(np.array(dataArr), labelMat)\n",
    "print(weights1)\n",
    "plotBestFit(weights1)"
   ]
  },
  {
   "cell_type": "markdown",
   "metadata": {},
   "source": [
    "## 5.3.示例：从疝气病症预测病马的死亡率 \n",
    "### 5.3.1.用 Logistic回归进行分类"
   ]
  },
  {
   "cell_type": "code",
   "execution_count": 80,
   "metadata": {
    "collapsed": true
   },
   "outputs": [],
   "source": [
    "def classifyVector(inX, weights):\n",
    "    \"\"\"\n",
    "    对输入的向量做预测\n",
    "    参数：\n",
    "        inX -- 输入向量\n",
    "        weights -- 权重参数\n",
    "    \"\"\"\n",
    "    prob = sigmoid(np.sum(inX*weights))\n",
    "    if prob > 0.5: return 1.0\n",
    "    else: return 0.0"
   ]
  },
  {
   "cell_type": "code",
   "execution_count": 81,
   "metadata": {
    "collapsed": true
   },
   "outputs": [],
   "source": [
    "def colicTest():\n",
    "    \"\"\"\n",
    "    实例的测试函数\n",
    "    参数：\n",
    "        无\n",
    "    返回：\n",
    "        errorRate -- 测试得到的错误率\n",
    "    \"\"\"\n",
    "    #读取训练集和测试集的数据\n",
    "    frTrain = open('horseColicTraining.txt'); frTest = open('horseColicTest.txt')\n",
    "    trainingSet = []; trainingLabels = []\n",
    "    for line in frTrain.readlines():\n",
    "        currLine = line.strip().split('\\t')\n",
    "        lineArr =[]\n",
    "        for i in range(21):\n",
    "            lineArr.append(np.float(currLine[i]))\n",
    "        trainingSet.append(lineArr)\n",
    "        trainingLabels.append(np.float(currLine[21]))\n",
    "    trainWeights = stocGradAscent1(np.array(trainingSet), trainingLabels, 1000)\n",
    "    errorCount = 0; numTestVec = 0.0\n",
    "    for line in frTest.readlines():\n",
    "        numTestVec += 1.0\n",
    "        currLine = line.strip().split('\\t')\n",
    "        lineArr =[]\n",
    "        for i in range(21):\n",
    "            lineArr.append(np.float(currLine[i]))\n",
    "        if np.int(classifyVector(np.array(lineArr), trainWeights))!= np.int(currLine[21]):\n",
    "            errorCount += 1\n",
    "    errorRate = (np.float(errorCount)/numTestVec)\n",
    "    print(\"the error rate of this test is:{}\".format(errorRate))\n",
    "    return errorRate"
   ]
  },
  {
   "cell_type": "code",
   "execution_count": 82,
   "metadata": {
    "collapsed": true
   },
   "outputs": [],
   "source": [
    "def multiTest():\n",
    "    \"\"\"\n",
    "    多次调用测试函数，并取平均\n",
    "    参数：\n",
    "        无\n",
    "    返回：\n",
    "        无 -- 直接打印结果\n",
    "    \"\"\"\n",
    "    numTests = 10; errorSum=0.0\n",
    "    for k in range(numTests):\n",
    "        errorSum += colicTest()\n",
    "    print(\"after {} iterations the average error rate is: {}\".format(numTests, errorSum/np.float(numTests)))"
   ]
  },
  {
   "cell_type": "markdown",
   "metadata": {},
   "source": [
    "测试"
   ]
  },
  {
   "cell_type": "code",
   "execution_count": 83,
   "metadata": {},
   "outputs": [
    {
     "name": "stderr",
     "output_type": "stream",
     "text": [
      "F:\\Anaconda\\lib\\site-packages\\ipykernel_launcher.py:2: RuntimeWarning: overflow encountered in exp\n",
      "  \n"
     ]
    },
    {
     "name": "stdout",
     "output_type": "stream",
     "text": [
      "the error rate of this test is:0.29850746268656714\n",
      "the error rate of this test is:0.29850746268656714\n",
      "the error rate of this test is:0.29850746268656714\n",
      "the error rate of this test is:0.29850746268656714\n",
      "the error rate of this test is:0.29850746268656714\n",
      "the error rate of this test is:0.29850746268656714\n",
      "the error rate of this test is:0.29850746268656714\n",
      "the error rate of this test is:0.29850746268656714\n",
      "the error rate of this test is:0.29850746268656714\n",
      "the error rate of this test is:0.29850746268656714\n",
      "after 10 iterations the average error rate is: 0.29850746268656714\n"
     ]
    }
   ],
   "source": [
    "multiTest()"
   ]
  },
  {
   "cell_type": "code",
   "execution_count": null,
   "metadata": {
    "collapsed": true
   },
   "outputs": [],
   "source": []
  }
 ],
 "metadata": {
  "kernelspec": {
   "display_name": "Python 3",
   "language": "python",
   "name": "python3"
  },
  "language_info": {
   "codemirror_mode": {
    "name": "ipython",
    "version": 3
   },
   "file_extension": ".py",
   "mimetype": "text/x-python",
   "name": "python",
   "nbconvert_exporter": "python",
   "pygments_lexer": "ipython3",
   "version": "3.6.1"
  }
 },
 "nbformat": 4,
 "nbformat_minor": 2
}
