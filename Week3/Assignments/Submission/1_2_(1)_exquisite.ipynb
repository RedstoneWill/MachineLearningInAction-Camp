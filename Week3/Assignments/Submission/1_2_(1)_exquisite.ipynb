{
 "cells": [
  {
   "cell_type": "markdown",
   "metadata": {},
   "source": [
    "# 从疝气病症预测病马的死亡率"
   ]
  },
  {
   "cell_type": "markdown",
   "metadata": {},
   "source": [
    "导入模块"
   ]
  },
  {
   "cell_type": "code",
   "execution_count": 1,
   "metadata": {},
   "outputs": [],
   "source": [
    "from numpy import *\n",
    "import matplotlib.pyplot as plt"
   ]
  },
  {
   "cell_type": "markdown",
   "metadata": {},
   "source": [
    "载入数据"
   ]
  },
  {
   "cell_type": "code",
   "execution_count": 2,
   "metadata": {},
   "outputs": [],
   "source": [
    "def loadDatSet(filename):\n",
    "    dataMat = [] # 用于存放数据\n",
    "    labelMat = [] # 用于存放标签\n",
    "    fr = open(filename) # 打开文件\n",
    "    for line in fr.readlines(): # 读取行\n",
    "        lineArr = line.strip().split() # 拆分\n",
    "        dataMat.append([1.0,float(lineArr[0]),float(lineArr[1])]) # 整理数据\n",
    "        labelMat.append(int(lineArr[2])) # 加入标签\n",
    "    return dataMat,labelMat # 返回数据和标签"
   ]
  },
  {
   "cell_type": "markdown",
   "metadata": {},
   "source": [
    "sigmoid函数"
   ]
  },
  {
   "cell_type": "code",
   "execution_count": 3,
   "metadata": {},
   "outputs": [],
   "source": [
    "def sigmoid(inX):\n",
    "    return 1.0/(1.0+exp(-inX))"
   ]
  },
  {
   "cell_type": "markdown",
   "metadata": {},
   "source": [
    "计算梯度"
   ]
  },
  {
   "cell_type": "code",
   "execution_count": 4,
   "metadata": {},
   "outputs": [],
   "source": [
    "def calcGrad(weights,dataMatrix,labelMatrix):\n",
    "    h = sigmoid(dataMatrix*weights) # 计算sigmoid输出\n",
    "    grad = -dataMatrix.T*(labelMatrix - h) # 求梯度\n",
    "    return grad # 返回梯度"
   ]
  },
  {
   "cell_type": "markdown",
   "metadata": {},
   "source": [
    "梯度下降更新算法"
   ]
  },
  {
   "cell_type": "code",
   "execution_count": 5,
   "metadata": {},
   "outputs": [],
   "source": [
    "def gradientDescent(dataMat,labelMat):\n",
    "    dataMatrix = mat(dataMat) # 将数据转换成矩阵形式\n",
    "    labelMatrix = mat(labelMat).T # 将标签转换成列矩阵\n",
    "    n = shape(dataMatrix) # 得到数据矩阵的尺寸\n",
    "    weights = ones((n[1],1)) # 初始化回归系数\n",
    "    alpha = 0.001 # 设置学习率\n",
    "    echo = 500 # 设置迭代次数\n",
    "    for i in range(echo):\n",
    "        weights = weights - alpha*calcGrad(weights,dataMatrix,labelMatrix) # 更新回归系数\n",
    "    return weights # 返回回归系数"
   ]
  },
  {
   "cell_type": "markdown",
   "metadata": {},
   "source": [
    "随机梯度下降"
   ]
  },
  {
   "cell_type": "code",
   "execution_count": 6,
   "metadata": {},
   "outputs": [],
   "source": [
    "def stocGradDescent(dataMat,labelMat,numIter=150):\n",
    "    dataMatrix = mat(dataMat) # 将数据转换成矩阵形式\n",
    "    labelMatrix = mat(labelMat).T # 将标签转换成列矩阵\n",
    "    n = shape(dataMat) # 得到数据矩阵的尺寸\n",
    "    weights = ones((n[1],1)) # 初始化回归系数\n",
    "    for j in range(numIter):\n",
    "        dataIndex = list(range(n[0]))\n",
    "        for i in range(n[0]):\n",
    "            alpha = 4/(1.0 + j + i) + 0.01 # 设置学习率更新方式\n",
    "            randIndex = int(random.choice(dataIndex)) # 随机选取数据索引\n",
    "            weights = weights - alpha*calcGrad(weights,dataMatrix[randIndex],labelMatrix[randIndex]) # 更新回归系数\n",
    "            dataIndex.remove(randIndex) # 删除当前索引\n",
    "    return weights # 返回回归系数"
   ]
  },
  {
   "cell_type": "markdown",
   "metadata": {},
   "source": [
    "画拟合直线"
   ]
  },
  {
   "cell_type": "code",
   "execution_count": 7,
   "metadata": {},
   "outputs": [],
   "source": [
    "def plotBestFit(wei,dataMat,labelMat):\n",
    "    weights = array(wei)\n",
    "    dataArr = array(dataMat)\n",
    "    n = shape(dataArr)[0] # 得到数据量\n",
    "    x1cord1 = [];x2cord1 = [] # 存放1类横纵坐标\n",
    "    x1cord2 = [];x2cord2 = [] # 存放0类横纵坐标\n",
    "    # 存放坐标\n",
    "    for i in range(n):\n",
    "        if int(labelMat[i]) == 1:\n",
    "            x1cord1.append(dataArr[i,1])\n",
    "            x2cord1.append(dataArr[i,2])\n",
    "        else:\n",
    "            x1cord2.append(dataArr[i,1])\n",
    "            x2cord2.append(dataArr[i,2])\n",
    "    fig = plt.figure()\n",
    "    ax = fig.add_subplot(111)\n",
    "    ax.scatter(x1cord1,x2cord1,s=30,c='green',marker='s')\n",
    "    ax.scatter(x1cord2,x2cord2,s=30,c='blue')\n",
    "    x = arange(-3.0,3.0,0.1) # 直线横坐标\n",
    "    y = (-weights[0]-weights[1]*x)/weights[2] # 直线纵坐标\n",
    "    ax.plot(x,y,c='red')\n",
    "    plt.xlabel('X1')\n",
    "    plt.ylabel('X2')\n",
    "    plt.show()"
   ]
  },
  {
   "cell_type": "code",
   "execution_count": 8,
   "metadata": {},
   "outputs": [
    {
     "data": {
      "image/png": "[encoded data removed]",
      "text/plain": [
       "<Figure size 432x288 with 1 Axes>"
      ]
     },
     "metadata": {},
     "output_type": "display_data"
    },
    {
     "data": {
      "image/png": "[encoded data removed]",
      "text/plain": [
       "<Figure size 432x288 with 1 Axes>"
      ]
     },
     "metadata": {},
     "output_type": "display_data"
    }
   ],
   "source": [
    "dataMat,labelMat = loadDatSet('C:/Users/exquisite/Downloads/machinelearninginaction-master/Ch05/testSet.txt')\n",
    "weights_1 = gradientDescent(dataMat,labelMat)\n",
    "weights_2 = stocGradDescent(dataMat,labelMat)\n",
    "plotBestFit(weights_1,dataMat,labelMat)\n",
    "plotBestFit(weights_2,dataMat,labelMat)"
   ]
  },
  {
   "cell_type": "markdown",
   "metadata": {},
   "source": [
    "分类器"
   ]
  },
  {
   "cell_type": "code",
   "execution_count": 9,
   "metadata": {},
   "outputs": [],
   "source": [
    "def classifyVector(inX,weights):\n",
    "    prob = sigmoid(sum(inX*weights))\n",
    "    if prob > 0.5:\n",
    "        return 1.0\n",
    "    else:\n",
    "        return 0.0"
   ]
  },
  {
   "cell_type": "markdown",
   "metadata": {},
   "source": [
    "测试函数"
   ]
  },
  {
   "cell_type": "code",
   "execution_count": 10,
   "metadata": {},
   "outputs": [],
   "source": [
    "def colicTest():\n",
    "    frTrain = open('C:/Users/exquisite/Downloads/machinelearninginaction-master/Ch05/horseColicTraining.txt') # 载入训练集\n",
    "    frTest = open('C:/Users/exquisite/Downloads/machinelearninginaction-master/Ch05/horseColicTest.txt') # 载入测试集\n",
    "    trainingSet = [] # 用于存放训练数据\n",
    "    trainingLabels = [] # 用于存放训练标签\n",
    "    # 整理数据\n",
    "    for line in frTrain.readlines():\n",
    "        currLine = line.strip().split('\\t')\n",
    "        lineArr = []\n",
    "        for i in range(21):\n",
    "            lineArr.append(float(currLine[i]))\n",
    "        trainingSet.append(lineArr)\n",
    "        trainingLabels.append(float(currLine[21]))\n",
    "    trainWeights = stocGradDescent(trainingSet,trainingLabels,500) # 得到回归系数\n",
    "    errorCount = 0 # 错误数\n",
    "    numTestVec = 0.0 # 存放测试数据个数\n",
    "    for line in frTest.readlines():\n",
    "        numTestVec += 1.0\n",
    "        currLine = line.strip().split('\\t')\n",
    "        lineArr = []\n",
    "        for i in range(21):\n",
    "            lineArr.append(float(currLine[i]))\n",
    "        if int(classifyVector(lineArr,trainWeights)) != int(currLine[21]): # 分类错误\n",
    "            errorCount += 1\n",
    "    errorRate = (float(errorCount)/numTestVec) # 计算错误率\n",
    "    print('the error rate of this test is: %f' % errorRate)\n",
    "    return errorRate"
   ]
  },
  {
   "cell_type": "markdown",
   "metadata": {},
   "source": [
    "多次测试函数"
   ]
  },
  {
   "cell_type": "code",
   "execution_count": 11,
   "metadata": {},
   "outputs": [],
   "source": [
    "def multiTest():\n",
    "    numTests = 10\n",
    "    errorSum = 0.0\n",
    "    # 计算十次取平均\n",
    "    for k in range(numTests):\n",
    "        errorSum += colicTest()\n",
    "    print('after %d iterations the average error rate is: %f' % (numTests,errorSum/float(numTests)))"
   ]
  },
  {
   "cell_type": "code",
   "execution_count": 12,
   "metadata": {},
   "outputs": [
    {
     "name": "stdout",
     "output_type": "stream",
     "text": [
      "the error rate of this test is: 0.388060\n"
     ]
    },
    {
     "data": {
      "text/plain": [
       "0.3880597014925373"
      ]
     },
     "execution_count": 12,
     "metadata": {},
     "output_type": "execute_result"
    }
   ],
   "source": [
    "colicTest()"
   ]
  },
  {
   "cell_type": "code",
   "execution_count": 13,
   "metadata": {},
   "outputs": [
    {
     "name": "stdout",
     "output_type": "stream",
     "text": [
      "the error rate of this test is: 0.358209\n",
      "the error rate of this test is: 0.358209\n",
      "the error rate of this test is: 0.283582\n",
      "the error rate of this test is: 0.432836\n",
      "the error rate of this test is: 0.253731\n",
      "the error rate of this test is: 0.417910\n",
      "the error rate of this test is: 0.253731\n",
      "the error rate of this test is: 0.477612\n",
      "the error rate of this test is: 0.552239\n",
      "the error rate of this test is: 0.507463\n",
      "after 10 iterations the average error rate is: 0.389552\n"
     ]
    }
   ],
   "source": [
    "multiTest()"
   ]
  },
  {
   "cell_type": "code",
   "execution_count": null,
   "metadata": {},
   "outputs": [],
   "source": []
  }
 ],
 "metadata": {
  "kernelspec": {
   "display_name": "Python 3",
   "language": "python",
   "name": "python3"
  },
  "language_info": {
   "codemirror_mode": {
    "name": "ipython",
    "version": 3
   },
   "file_extension": ".py",
   "mimetype": "text/x-python",
   "name": "python",
   "nbconvert_exporter": "python",
   "pygments_lexer": "ipython3",
   "version": "3.6.5"
  }
 },
 "nbformat": 4,
 "nbformat_minor": 2
}
