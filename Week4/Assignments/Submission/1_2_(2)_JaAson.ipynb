{
 "cells": [
  {
   "cell_type": "markdown",
   "metadata": {},
   "source": [
    "# 6.支持向量机（SVM）和SMO算法"
   ]
  },
  {
   "cell_type": "code",
   "execution_count": 90,
   "metadata": {
    "collapsed": true
   },
   "outputs": [],
   "source": [
    "import numpy as np\n",
    "from numpy import *\n",
    "from time import sleep\n",
    "import matplotlib.pyplot as plt\n",
    "%matplotlib inline"
   ]
  },
  {
   "cell_type": "markdown",
   "metadata": {},
   "source": [
    "## 6.1.简化版SMO算法处理小规模数据集\n",
    "### 6.1.1.辅助函数"
   ]
  },
  {
   "cell_type": "code",
   "execution_count": 2,
   "metadata": {
    "collapsed": true
   },
   "outputs": [],
   "source": [
    "def loadDataSet(fileName):\n",
    "    \"\"\"\n",
    "    读取数据集\n",
    "    参数：\n",
    "        fileName -- 文件名\n",
    "    返回：\n",
    "        dataMat -- 数据矩阵\n",
    "        label -- 标签矩阵\n",
    "    \"\"\"\n",
    "    #新建数据和标签矩阵列表\n",
    "    dataMat = []; labelMat = []\n",
    "    #获得文件指针\n",
    "    fr = open(fileName)\n",
    "    #一行行读取\n",
    "    for line in fr.readlines():\n",
    "        #以制表符分割\n",
    "        lineArr = line.strip().split('\\t')\n",
    "        #数据1、2列添加到数据矩阵\n",
    "        dataMat.append([np.float(lineArr[0]), np.float(lineArr[1])])\n",
    "        #数据3列添加到标签矩阵\n",
    "        labelMat.append(np.float(lineArr[2]))\n",
    "    return dataMat,labelMat"
   ]
  },
  {
   "cell_type": "code",
   "execution_count": 3,
   "metadata": {
    "collapsed": true
   },
   "outputs": [],
   "source": [
    "def selectJrand(i,m):\n",
    "    \"\"\"\n",
    "    随机选取和i不同的j\n",
    "    参数:\n",
    "        i -- 第一个alpha的下标\n",
    "        m -- alpha的个数\n",
    "    返回：\n",
    "        j -- 随机的值\n",
    "    \"\"\"\n",
    "    j=i\n",
    "    while (j==i):\n",
    "        j = np.int(np.random.uniform(0,m))\n",
    "    return j"
   ]
  },
  {
   "cell_type": "code",
   "execution_count": 4,
   "metadata": {
    "collapsed": true
   },
   "outputs": [],
   "source": [
    "def clipAlpha(aj,H,L):\n",
    "    \"\"\"\n",
    "    约束alpha\n",
    "    参数：\n",
    "        aj -- 迭代得到的未约束alpha的值\n",
    "        H -- 上界\n",
    "        L -- 下界\n",
    "    返回：\n",
    "        aj -- 约束后的alpha\n",
    "    \"\"\"\n",
    "    if aj > H: \n",
    "        aj = H\n",
    "    if L > aj:\n",
    "        aj = L\n",
    "    return aj"
   ]
  },
  {
   "cell_type": "markdown",
   "metadata": {},
   "source": [
    "### 6.1.2.简化的SMO算法"
   ]
  },
  {
   "cell_type": "code",
   "execution_count": 5,
   "metadata": {
    "collapsed": true
   },
   "outputs": [],
   "source": [
    "def smoSimple(dataMatIn, classLabels, C, toler, maxIter):\n",
    "    \"\"\"\n",
    "    简化的SMO算法\n",
    "    参数：\n",
    "        dataMatIn -- 输入数据矩阵\n",
    "        classLabels -- 标签类列表\n",
    "        C -- 权重超参数\n",
    "        toler -- 容错率\n",
    "        maxIter -- 最大迭代次数\n",
    "    返回：\n",
    "        b -- 更新的偏差参数\n",
    "        alphas -- 更新的alpha参数向量\n",
    "    \"\"\"\n",
    "    #数据和标签转化为矩阵形式\n",
    "    dataMatrix = np.array(dataMatIn); labelMat = np.array(classLabels).reshape(-1, 1)\n",
    "    #偏差参数初始化\n",
    "    #记录数据矩阵的维度\n",
    "    b = 0; m,n = np.shape(dataMatrix)\n",
    "    #初始化alpha向量为全0\n",
    "    alphas = np.zeros((m,1))\n",
    "    #初始化迭代次数计数器\n",
    "    iter = 0\n",
    "    #当迭代次数小于最大迭代次数时\n",
    "    while (iter < maxIter):\n",
    "        #alpha对修改次数计数器\n",
    "        alphaPairsChanged = 0\n",
    "        #寻找可优化的alpha\n",
    "        for i in range(m):\n",
    "            fXi = np.float(np.dot((alphas*labelMat).T, np.dot(dataMatrix, dataMatrix[i:i+1,:].T))) + b\n",
    "            Ei = fXi - np.float(labelMat[i, 0])\n",
    "            #检查是否有元素违背KKT条件\n",
    "            if ((labelMat[i, 0]*Ei < -toler) and (alphas[i, 0] < C)) or ((labelMat[i, 0]*Ei > toler) and (alphas[i, 0] > 0)):\n",
    "                #随机选择j\n",
    "                j = selectJrand(i,m)\n",
    "                fXj = np.float(np.dot((alphas*labelMat).T, np.dot(dataMatrix, dataMatrix[j:j+1,:].T))) + b\n",
    "                Ej = fXj - np.float(labelMat[j, 0])\n",
    "                #提取旧的alphai和alphaj\n",
    "                alphaIold = alphas[i, 0].copy(); alphaJold = alphas[j, 0].copy();\n",
    "                #如果i和j的标签不同\n",
    "                if (labelMat[i, 0] != labelMat[j, 0]):\n",
    "                    L = max(0, alphas[j, 0] - alphas[i, 0])\n",
    "                    H = min(C, C + alphas[j, 0] - alphas[i, 0])\n",
    "                else:\n",
    "                    L = max(0, alphas[j, 0] + alphas[i, 0] - C)\n",
    "                    H = min(C, alphas[j, 0] + alphas[i, 0])\n",
    "                #若上界等于下界，就执行下一次循序\n",
    "                if L==H:  continue\n",
    "                #计算最优修改量\n",
    "                eta = 2.0 * np.dot(dataMatrix[i:i+1,:], dataMatrix[j:j+1,:].T) - np.dot(dataMatrix[i:i+1,:], dataMatrix[i:i+1,:].T) - np.dot(dataMatrix[j:j+1,:], dataMatrix[j:j+1,:].T)\n",
    "                if eta >= 0:  continue\n",
    "                #更新alphaj\n",
    "                alphas[j, 0] -= labelMat[j, 0]*(Ei - Ej)/eta\n",
    "                #约束alphaj\n",
    "                alphas[j, 0] = clipAlpha(alphas[j, 0],H,L)\n",
    "                #判断精度是否满足要求，是，则执行下一次循环\n",
    "                if (abs(alphas[j, 0] - alphaJold) < 0.00001):  continue\n",
    "                #修改i的量和j相同，但是方向相反，保证约束条件成立\n",
    "                alphas[i, 0] += labelMat[j, 0]*labelMat[i, 0]*(alphaJold - alphas[j, 0])\n",
    "                #计算新的b\n",
    "                b1 = b - Ei- labelMat[i, 0]*(alphas[i, 0]-alphaIold)*np.dot(dataMatrix[i:i+1,:], dataMatrix[i:i+1,:].T) - labelMat[j, 0]*(alphas[j, 0]-alphaJold)*np.dot(dataMatrix[i:i+1,:], dataMatrix[j:j+1,:].T)\n",
    "                b2 = b - Ej- labelMat[i, 0]*(alphas[i, 0]-alphaIold)*np.dot(dataMatrix[i:i+1,:], dataMatrix[j:j+1,:].T) - labelMat[j, 0]*(alphas[j, 0]-alphaJold)*np.dot(dataMatrix[j:j+1,:], dataMatrix[j:j+1,:].T)\n",
    "                if (0 < alphas[i, 0]) and (C > alphas[i, 0]): b = b1\n",
    "                elif (0 < alphas[j, 0]) and (C > alphas[j, 0]): b = b2\n",
    "                else: b = (b1 + b2)/2.0\n",
    "                #更新alpha对修改次数计数器\n",
    "                alphaPairsChanged += 1\n",
    "                #打印更新次数\n",
    "                #print(\"循环次数: {} alpha:{}, alpha对修改了 {} 次\".format(iter,i,alphaPairsChanged))\n",
    "        if (alphaPairsChanged == 0): iter += 1\n",
    "        else: iter = 0\n",
    "        #print(\"迭代次数: {}\".format(iter))\n",
    "    return b,alphas"
   ]
  },
  {
   "cell_type": "markdown",
   "metadata": {},
   "source": [
    "测试函数"
   ]
  },
  {
   "cell_type": "code",
   "execution_count": 6,
   "metadata": {},
   "outputs": [
    {
     "name": "stdout",
     "output_type": "stream",
     "text": [
      "b = [[-3.84505534]]\n",
      "大于0的alpha\n",
      "[ 0.1277133   0.24197161  0.36968491]\n"
     ]
    }
   ],
   "source": [
    "dataArr, labelArr = loadDataSet(\"testSet.txt\")\n",
    "b, alphas = smoSimple(dataArr, labelArr, 0.6, 0.001, 40)\n",
    "print(\"b = {}\".format(b))\n",
    "print(\"大于0的alpha\\n{}\".format(alphas[alphas > 0]))"
   ]
  },
  {
   "cell_type": "code",
   "execution_count": 7,
   "metadata": {},
   "outputs": [
    {
     "name": "stdout",
     "output_type": "stream",
     "text": [
      "[4.658191, 3.507396] -1.0\n",
      "[3.457096, -0.082216] -1.0\n",
      "[6.080573, 0.418886] 1.0\n"
     ]
    }
   ],
   "source": [
    "for i in range(alphas.shape[0]):\n",
    "    if alphas[i, 0] > 0.0:\n",
    "        print(dataArr[i], labelArr[i])"
   ]
  },
  {
   "cell_type": "markdown",
   "metadata": {},
   "source": [
    "### 6.1.3.可视化数据"
   ]
  },
  {
   "cell_type": "code",
   "execution_count": 18,
   "metadata": {},
   "outputs": [],
   "source": [
    "def visualizeData(dataArr, labelArr, b, alphas):\n",
    "    \"\"\"\n",
    "    可视化数据\n",
    "    参数：\n",
    "        dataArr -- 参数矩阵\n",
    "        labelArr -- 标签矩阵\n",
    "        b -- 超平面的常数项\n",
    "        alphas -- 超平面的参数\n",
    "    返回：\n",
    "        无 -- 直接绘图\n",
    "    \"\"\"\n",
    "    dataMat = np.array(dataArr)\n",
    "    labelMat = np.array(labelArr).reshape(-1, 1)\n",
    "    posIndex = np.squeeze(labelMat > 0.0)\n",
    "    negIndex = np.squeeze(labelMat < 0.0)\n",
    "    svIndex = np.squeeze(alphas > 0.0)\n",
    "    posData = dataMat[posIndex, :]\n",
    "    negData = dataMat[negIndex, :]\n",
    "    svData = dataMat[svIndex, :]\n",
    "    plt.scatter(posData[:, 0], posData[:, 1], marker = 's', color = 'b')\n",
    "    plt.scatter(negData[:, 0], negData[:, 1], marker = '.', color = 'r')\n",
    "    plt.scatter(svData[:, 0], svData[:, 1], s = 200, marker = 'o', c='',edgecolors='g')\n",
    "    plt.legend((\"postive point\", \"negative point\", \"support vector\"))\n",
    "    w = np.dot((alphas * labelMat).T, dataMat)\n",
    "    x0 = np.array([2, 8])\n",
    "    x1 = -(w[0, 0] * x0 + np.squeeze(b)) / w[0, 1]\n",
    "    plt.plot(x0, x1, color = 'y')"
   ]
  },
  {
   "cell_type": "code",
   "execution_count": 19,
   "metadata": {},
   "outputs": [
    {
     "data": {
      "image/png": "[encoded data removed]",
      "text/plain": [
       "<matplotlib.figure.Figure at 0x1aecb5fc7f0>"
      ]
     },
     "metadata": {},
     "output_type": "display_data"
    }
   ],
   "source": [
    "visualizeData(dataArr, labelArr, b, alphas)"
   ]
  },
  {
   "cell_type": "markdown",
   "metadata": {},
   "source": [
    "## 6.2.完整版Platt SMO的支持函数  \n",
    "\n",
    "### 6.2.1.Platt SMO支持函数  "
   ]
  },
  {
   "cell_type": "code",
   "execution_count": 44,
   "metadata": {
    "collapsed": true
   },
   "outputs": [],
   "source": [
    "class optStructK:\n",
    "    def __init__(self,dataMatIn, classLabels, C, toler):\n",
    "        self.X = dataMatIn\n",
    "        self.labelMat = classLabels\n",
    "        self.C = C\n",
    "        self.tol = toler\n",
    "        self.m = np.shape(dataMatIn)[0]\n",
    "        self.alphas = np.zeros((self.m,1))\n",
    "        self.b = 0\n",
    "        #误差缓存\n",
    "        self.eCache = np.zeros((self.m,2))"
   ]
  },
  {
   "cell_type": "code",
   "execution_count": 45,
   "metadata": {
    "collapsed": true
   },
   "outputs": [],
   "source": [
    "def calcEkK(oS, k):\n",
    "    fXk = np.float(np.dot((oS.alphas * oS.labelMat).T, np.dot(oS.X, oS.X[k,:].T))) + oS.b\n",
    "    Ek = fXk - np.float(oS.labelMat[k])\n",
    "    return Ek"
   ]
  },
  {
   "cell_type": "code",
   "execution_count": 46,
   "metadata": {
    "collapsed": true
   },
   "outputs": [],
   "source": [
    "def selectJK(i, oS, Ei):\n",
    "    \"\"\"\n",
    "    内循环选择alpha的启发式算法\n",
    "    参数：\n",
    "        i -- 外循环alpha的下标\n",
    "        oS -- 类\n",
    "        Ei -- 误差\n",
    "    返回：\n",
    "        j -- 选择的alpha的下标\n",
    "        Ej -- 误差\n",
    "    \"\"\"\n",
    "    #初始化\n",
    "    maxK = -1; maxDeltaE = 0; Ej = 0\n",
    "    oS.eCache[i] = [1,Ei]\n",
    "    #选择合理的集合\n",
    "    validEcacheList = np.nonzero(oS.eCache[:,0])[0]\n",
    "    if (len(validEcacheList)) > 1:\n",
    "        #选择最大步长的alpha\n",
    "        for k in validEcacheList:\n",
    "            #不重复计算\n",
    "            if k == i: continue\n",
    "            #计算误差\n",
    "            Ek = calcEkK(oS, k)\n",
    "            #计算步长\n",
    "            deltaE = abs(Ei - Ek)\n",
    "            #记录最佳选择\n",
    "            if (deltaE > maxDeltaE):\n",
    "                maxK = k; maxDeltaE = deltaE; Ej = Ek\n",
    "        return maxK, Ej\n",
    "    #没有合理值\n",
    "    else:\n",
    "        #随机选择\n",
    "        j = selectJrand(i, oS.m)\n",
    "        Ej = calcEkK(oS, j)\n",
    "    return j, Ej"
   ]
  },
  {
   "cell_type": "code",
   "execution_count": 47,
   "metadata": {
    "collapsed": true
   },
   "outputs": [],
   "source": [
    "def updateEkK(oS, k):\n",
    "    #在alpha更新后存储计算得到的误差\n",
    "    Ek = calcEkK(oS, k)\n",
    "    oS.eCache[k] = [1,Ek]"
   ]
  },
  {
   "cell_type": "code",
   "execution_count": 58,
   "metadata": {
    "collapsed": true
   },
   "outputs": [],
   "source": [
    "def innerLK(i, oS):\n",
    "    #计算误差\n",
    "    Ei = calcEkK(oS, i)\n",
    "    #找出不满足KKT条件的alpha\n",
    "    if ((oS.labelMat[i, 0]*Ei < -oS.tol) and (oS.alphas[i, 0] < oS.C)) or ((oS.labelMat[i, 0]*Ei > oS.tol) and (oS.alphas[i, 0] > 0)):\n",
    "        #选择j\n",
    "        j,Ej = selectJK(i, oS, Ei)\n",
    "        #存储旧的值\n",
    "        alphaIold = oS.alphas[i, 0].copy(); alphaJold = oS.alphas[j, 0].copy();\n",
    "        #两种情况求边界值\n",
    "        if (oS.labelMat[i, 0] != oS.labelMat[j, 0]):\n",
    "            L = max(0, oS.alphas[j, 0] - oS.alphas[i, 0])\n",
    "            H = min(oS.C, oS.C + oS.alphas[j, 0] - oS.alphas[i, 0])\n",
    "        else:\n",
    "            L = max(0, oS.alphas[j, 0] + oS.alphas[i, 0] - oS.C)\n",
    "            H = min(oS.C, oS.alphas[j, 0] + oS.alphas[i, 0])\n",
    "        if L==H: return 0\n",
    "        #计算变化量\n",
    "        eta = 2.0 * np.dot(oS.X[i:i+1,:], oS.X[j:j+1,:].T) - np.dot(oS.X[i:i+1,:], oS.X[i:i+1,:].T) - np.dot(oS.X[j:j+1,:], oS.X[j:j+1,:].T)\n",
    "        if eta >= 0: return 0\n",
    "        #更新alpha\n",
    "        oS.alphas[j, 0] -= oS.labelMat[j, 0]*(Ei - Ej)/eta\n",
    "        #约束alpha\n",
    "        oS.alphas[j, 0] = clipAlpha(oS.alphas[j, 0],H,L)\n",
    "        updateEkK(oS, j)\n",
    "        if (abs(oS.alphas[j, 0] - alphaJold) < 0.00001): return 0\n",
    "        oS.alphas[i, 0] += oS.labelMat[j, 0]*oS.labelMat[i, 0]*(alphaJold - oS.alphas[j, 0])\n",
    "        updateEkK(oS, i)\n",
    "        b1 = oS.b - Ei- oS.labelMat[i, 0]*(oS.alphas[i, 0]-alphaIold)*np.dot(oS.X[i:i+1,:], oS.X[i:i+1,:].T) - oS.labelMat[j, 0]*(oS.alphas[j, 0]-alphaJold)*np.dot(oS.X[i:i+1,:], oS.X[j:j+1,:].T)\n",
    "        b2 = oS.b - Ej- oS.labelMat[i, 0]*(oS.alphas[i, 0]-alphaIold)*np.dot(oS.X[i:i+1,:], oS.X[j:j+1,:].T) - oS.labelMat[j, 0]*(oS.alphas[j, 0]-alphaJold)*np.dot(oS.X[j:j+1,:], oS.X[j:j+1,:].T)\n",
    "        if (0 < oS.alphas[i, 0]) and (oS.C > oS.alphas[i, 0]): oS.b = b1\n",
    "        elif (0 < oS.alphas[j, 0]) and (oS.C > oS.alphas[j, 0]): oS.b = b2\n",
    "        else: oS.b = (b1 + b2)/2.0\n",
    "        return 1\n",
    "    else: return 0"
   ]
  },
  {
   "cell_type": "code",
   "execution_count": 56,
   "metadata": {
    "collapsed": true
   },
   "outputs": [],
   "source": [
    "def smoPK(dataMatIn, classLabels, C, toler, maxIter):\n",
    "    #建立类变量\n",
    "    oS = optStructK(np.array(dataMatIn),np.array(classLabels).reshape(-1, 1),C,toler)\n",
    "    iter = 0\n",
    "    entireSet = True; alphaPairsChanged = 0\n",
    "    #执行循环\n",
    "    while (iter < maxIter) and ((alphaPairsChanged > 0) or (entireSet)):\n",
    "        alphaPairsChanged = 0\n",
    "        if entireSet:\n",
    "            #遍历所有\n",
    "            for i in range(oS.m):        \n",
    "                alphaPairsChanged += innerLK(i,oS)\n",
    "                #print(\"fullSet, iter: {} i:{}, pairs changed {}\".format(iter,i,alphaPairsChanged))\n",
    "            iter += 1\n",
    "        else:\n",
    "            #遍历非边界值\n",
    "            nonBoundIs = np.nonzero((oS.alphas > 0) * (oS.alphas < C))[0]\n",
    "            for i in nonBoundIs:\n",
    "                alphaPairsChanged += innerLK(i,oS)\n",
    "                #print(\"non-bound, iter: {} i:{}, pairs changed {}\".format(iter,i,alphaPairsChanged))\n",
    "            iter += 1\n",
    "        if entireSet: entireSet = False \n",
    "        elif (alphaPairsChanged == 0): entireSet = True  \n",
    "        #print(\"iteration number: {}\".format(iter))\n",
    "    return oS.b,oS.alphas"
   ]
  },
  {
   "cell_type": "code",
   "execution_count": 59,
   "metadata": {},
   "outputs": [
    {
     "name": "stdout",
     "output_type": "stream",
     "text": [
      "b = [[-2.89901748]]\n",
      "alphas[alphas > 0] = [ 0.06961952  0.0169055   0.0169055   0.0272699   0.04522972  0.0272699\n",
      "  0.0243898   0.06140181  0.06140181]\n"
     ]
    }
   ],
   "source": [
    "dataArr, labelArr = loadDataSet(\"testSet.txt\")\n",
    "b, alphas = smoPK(dataArr, labelArr, 0.6, 0.001, 40)\n",
    "print(\"b = {}\\nalphas[alphas > 0] = {}\".format(b, alphas[alphas > 0]))"
   ]
  },
  {
   "cell_type": "code",
   "execution_count": 60,
   "metadata": {},
   "outputs": [
    {
     "data": {
      "image/png": "[encoded data removed]",
      "text/plain": [
       "<matplotlib.figure.Figure at 0x1aecb717940>"
      ]
     },
     "metadata": {},
     "output_type": "display_data"
    }
   ],
   "source": [
    "visualizeData(dataArr, labelArr, b, alphas)"
   ]
  },
  {
   "cell_type": "markdown",
   "metadata": {},
   "source": [
    "## 6.3.引入核函数\n",
    "### 6.3.1.在线性SVM的基础上进行改动"
   ]
  },
  {
   "cell_type": "code",
   "execution_count": 111,
   "metadata": {
    "collapsed": true
   },
   "outputs": [],
   "source": [
    "def kernelTrans(X, A, kTup): #calc the kernel or transform data to a higher dimensional space\n",
    "    m,n = shape(X)\n",
    "    K = mat(zeros((m,1)))\n",
    "    if kTup[0]=='lin': K = X * A.T   #linear kernel\n",
    "    elif kTup[0]=='rbf':\n",
    "        for j in range(m):\n",
    "            deltaRow = X[j,:] - A\n",
    "            K[j] = np.dot(deltaRow, deltaRow.T)\n",
    "        K = exp(K/(-1*kTup[1]**2)) #divide in NumPy is element-wise not matrix like Matlab\n",
    "    else: raise NameError('Houston We Have a Problem -- \\\n",
    "    That Kernel is not recognized')\n",
    "    return K"
   ]
  },
  {
   "cell_type": "code",
   "execution_count": 92,
   "metadata": {},
   "outputs": [],
   "source": [
    "class optStruct:\n",
    "    def __init__(self,dataMatIn, classLabels, C, toler, kTup):  # Initialize the structure with the parameters \n",
    "        self.X = dataMatIn\n",
    "        self.labelMat = classLabels\n",
    "        self.C = C\n",
    "        self.tol = toler\n",
    "        self.m = shape(dataMatIn)[0]\n",
    "        self.alphas = mat(zeros((self.m,1)))\n",
    "        self.b = 0\n",
    "        self.eCache = mat(zeros((self.m,2))) #first column is valid flag\n",
    "        self.K = mat(zeros((self.m,self.m)))\n",
    "        for i in range(self.m):\n",
    "            self.K[:,i] = kernelTrans(self.X, self.X[i,:], kTup)"
   ]
  },
  {
   "cell_type": "code",
   "execution_count": 93,
   "metadata": {
    "collapsed": true
   },
   "outputs": [],
   "source": [
    "def calcEk(oS, k):\n",
    "    fXk = float(multiply(oS.alphas,oS.labelMat).T*oS.K[:,k] + oS.b)\n",
    "    Ek = fXk - float(oS.labelMat[k])\n",
    "    return Ek"
   ]
  },
  {
   "cell_type": "code",
   "execution_count": 94,
   "metadata": {
    "collapsed": true
   },
   "outputs": [],
   "source": [
    "def selectJ(i, oS, Ei):         #this is the second choice -heurstic, and calcs Ej\n",
    "    maxK = -1; maxDeltaE = 0; Ej = 0\n",
    "    oS.eCache[i] = [1,Ei]  #set valid #choose the alpha that gives the maximum delta E\n",
    "    validEcacheList = nonzero(oS.eCache[:,0].A)[0]\n",
    "    if (len(validEcacheList)) > 1:\n",
    "        for k in validEcacheList:   #loop through valid Ecache values and find the one that maximizes delta E\n",
    "            if k == i: continue #don't calc for i, waste of time\n",
    "            Ek = calcEk(oS, k)\n",
    "            deltaE = abs(Ei - Ek)\n",
    "            if (deltaE > maxDeltaE):\n",
    "                maxK = k; maxDeltaE = deltaE; Ej = Ek\n",
    "        return maxK, Ej\n",
    "    else:   #in this case (first time around) we don't have any valid eCache values\n",
    "        j = selectJrand(i, oS.m)\n",
    "        Ej = calcEk(oS, j)\n",
    "    return j, Ej"
   ]
  },
  {
   "cell_type": "code",
   "execution_count": 95,
   "metadata": {
    "collapsed": true
   },
   "outputs": [],
   "source": [
    "def updateEk(oS, k):#after any alpha has changed update the new value in the cache\n",
    "    Ek = calcEk(oS, k)\n",
    "    oS.eCache[k] = [1,Ek]"
   ]
  },
  {
   "cell_type": "code",
   "execution_count": 102,
   "metadata": {},
   "outputs": [],
   "source": [
    "def innerL(i, oS):\n",
    "    Ei = calcEk(oS, i)\n",
    "    if ((oS.labelMat[i]*Ei < -oS.tol) and (oS.alphas[i] < oS.C)) or ((oS.labelMat[i]*Ei > oS.tol) and (oS.alphas[i] > 0)):\n",
    "        j,Ej = selectJ(i, oS, Ei) #this has been changed from selectJrand\n",
    "        alphaIold = oS.alphas[i].copy(); alphaJold = oS.alphas[j].copy();\n",
    "        if (oS.labelMat[i] != oS.labelMat[j]):\n",
    "            L = max(0, oS.alphas[j] - oS.alphas[i])\n",
    "            H = min(oS.C, oS.C + oS.alphas[j] - oS.alphas[i])\n",
    "        else:\n",
    "            L = max(0, oS.alphas[j] + oS.alphas[i] - oS.C)\n",
    "            H = min(oS.C, oS.alphas[j] + oS.alphas[i])\n",
    "        if L==H: return 0\n",
    "        eta = 2.0 * oS.K[i,j] - oS.K[i,i] - oS.K[j,j] #changed for kernel\n",
    "        if eta >= 0: return 0\n",
    "        oS.alphas[j] -= oS.labelMat[j]*(Ei - Ej)/eta\n",
    "        oS.alphas[j] = clipAlpha(oS.alphas[j],H,L)\n",
    "        updateEk(oS, j) #added this for the Ecache\n",
    "        if (abs(oS.alphas[j] - alphaJold) < 0.00001): return 0\n",
    "        oS.alphas[i] += oS.labelMat[j]*oS.labelMat[i]*(alphaJold - oS.alphas[j])#update i by the same amount as j\n",
    "        updateEk(oS, i) #added this for the Ecache                    #the update is in the oppostie direction\n",
    "        b1 = oS.b - Ei- oS.labelMat[i]*(oS.alphas[i]-alphaIold)*oS.K[i,i] - oS.labelMat[j]*(oS.alphas[j]-alphaJold)*oS.K[i,j]\n",
    "        b2 = oS.b - Ej- oS.labelMat[i]*(oS.alphas[i]-alphaIold)*oS.K[i,j]- oS.labelMat[j]*(oS.alphas[j]-alphaJold)*oS.K[j,j]\n",
    "        if (0 < oS.alphas[i]) and (oS.C > oS.alphas[i]): oS.b = b1\n",
    "        elif (0 < oS.alphas[j]) and (oS.C > oS.alphas[j]): oS.b = b2\n",
    "        else: oS.b = (b1 + b2)/2.0\n",
    "        return 1\n",
    "    else: return 0"
   ]
  },
  {
   "cell_type": "code",
   "execution_count": 103,
   "metadata": {},
   "outputs": [],
   "source": [
    "def smoP(dataMatIn, classLabels, C, toler, maxIter,kTup=('lin', 0)):    #full Platt SMO\n",
    "    oS = optStruct(mat(dataMatIn),mat(classLabels).transpose(),C,toler, kTup)\n",
    "    iter = 0\n",
    "    entireSet = True; alphaPairsChanged = 0\n",
    "    while (iter < maxIter) and ((alphaPairsChanged > 0) or (entireSet)):\n",
    "        alphaPairsChanged = 0\n",
    "        if entireSet:   #go over all\n",
    "            for i in range(oS.m):        \n",
    "                alphaPairsChanged += innerL(i,oS)\n",
    "                #print(\"fullSet, iter: %d i:%d, pairs changed %d\" % (iter,i,alphaPairsChanged))\n",
    "            iter += 1\n",
    "        else:#go over non-bound (railed) alphas\n",
    "            nonBoundIs = nonzero((oS.alphas.A > 0) * (oS.alphas.A < C))[0]\n",
    "            for i in nonBoundIs:\n",
    "                alphaPairsChanged += innerL(i,oS)\n",
    "                #print( \"non-bound, iter: %d i:%d, pairs changed %d\" % (iter,i,alphaPairsChanged))\n",
    "            iter += 1\n",
    "        if entireSet: entireSet = False #toggle entire set loop\n",
    "        elif (alphaPairsChanged == 0): entireSet = True  \n",
    "        #print( \"iteration number: %d\" % iter)\n",
    "    return oS.b,oS.alphas"
   ]
  },
  {
   "cell_type": "code",
   "execution_count": 104,
   "metadata": {
    "collapsed": true
   },
   "outputs": [],
   "source": [
    "def calcWs(alphas,dataArr,classLabels):\n",
    "    X = mat(dataArr); labelMat = mat(classLabels).transpose()\n",
    "    m,n = shape(X)\n",
    "    w = zeros((n,1))\n",
    "    for i in range(m):\n",
    "        w += multiply(alphas[i]*labelMat[i],X[i,:].T)\n",
    "    return w"
   ]
  },
  {
   "cell_type": "markdown",
   "metadata": {},
   "source": [
    "### 6.3.2.在测试中使用核函数"
   ]
  },
  {
   "cell_type": "code",
   "execution_count": 105,
   "metadata": {
    "collapsed": true
   },
   "outputs": [],
   "source": [
    "def testRbf(k1=1.3):\n",
    "    dataArr,labelArr = loadDataSet('testSetRBF.txt')\n",
    "    b,alphas = smoP(dataArr, labelArr, 200, 0.0001, 10000, ('rbf', k1)) #C=200 important\n",
    "    datMat=mat(dataArr); labelMat = mat(labelArr).transpose()\n",
    "    svInd=nonzero(alphas.A>0)[0]\n",
    "    sVs=datMat[svInd] #get matrix of only support vectors\n",
    "    labelSV = labelMat[svInd];\n",
    "    print( \"there are %d Support Vectors\" % shape(sVs)[0])\n",
    "    m,n = shape(datMat)\n",
    "    errorCount = 0\n",
    "    for i in range(m):\n",
    "        kernelEval = kernelTrans(sVs,datMat[i,:],('rbf', k1))\n",
    "        predict=kernelEval.T * multiply(labelSV,alphas[svInd]) + b\n",
    "        if sign(predict)!=sign(labelArr[i]): errorCount += 1\n",
    "    print( \"the training error rate is: %f\" % (float(errorCount)/m))\n",
    "    dataArr,labelArr = loadDataSet('testSetRBF2.txt')\n",
    "    errorCount = 0\n",
    "    datMat=mat(dataArr); labelMat = mat(labelArr).transpose()\n",
    "    m,n = shape(datMat)\n",
    "    for i in range(m):\n",
    "        kernelEval = kernelTrans(sVs,datMat[i,:],('rbf', k1))\n",
    "        predict=kernelEval.T * multiply(labelSV,alphas[svInd]) + b\n",
    "        if sign(predict)!=sign(labelArr[i]): errorCount += 1    \n",
    "    print( \"the test error rate is: %f\" % (float(errorCount)/m) )"
   ]
  },
  {
   "cell_type": "code",
   "execution_count": 106,
   "metadata": {},
   "outputs": [
    {
     "name": "stdout",
     "output_type": "stream",
     "text": [
      "there are 30 Support Vectors\n",
      "the training error rate is: 0.130000\n",
      "the test error rate is: 0.150000\n"
     ]
    }
   ],
   "source": [
    "testRbf()"
   ]
  },
  {
   "cell_type": "code",
   "execution_count": 107,
   "metadata": {
    "collapsed": true
   },
   "outputs": [],
   "source": [
    "def img2vector(filename):\n",
    "    returnVect = np.zeros((1,1024))\n",
    "    fr = open(filename)\n",
    "    for i in range(32):\n",
    "        lineStr = fr.readline()\n",
    "        for j in range(32):\n",
    "            returnVect[0,32*i+j] = np.int(lineStr[j])\n",
    "    return returnVect"
   ]
  },
  {
   "cell_type": "code",
   "execution_count": 108,
   "metadata": {
    "collapsed": true
   },
   "outputs": [],
   "source": [
    "def loadImages(dirName):\n",
    "    from os import listdir\n",
    "    hwLabels = []\n",
    "    trainingFileList = listdir(dirName)           #load the training set\n",
    "    m = len(trainingFileList)\n",
    "    trainingMat = np.zeros((m,1024))\n",
    "    for i in range(m):\n",
    "        fileNameStr = trainingFileList[i]\n",
    "        fileStr = fileNameStr.split('.')[0]     #take off .txt\n",
    "        classNumStr = np.int(fileStr.split('_')[0])\n",
    "        if classNumStr == 9: hwLabels.append(-1)\n",
    "        else: hwLabels.append(1)\n",
    "        trainingMat[i,:] = img2vector('%s/%s' % (dirName, fileNameStr))\n",
    "    return trainingMat, hwLabels "
   ]
  },
  {
   "cell_type": "code",
   "execution_count": 114,
   "metadata": {
    "collapsed": true
   },
   "outputs": [],
   "source": [
    "def testDigits(kTup=('rbf', 10)):\n",
    "    dataArr,labelArr = loadImages('trainingDigits')\n",
    "    b,alphas = smoP(dataArr, labelArr, 200, 0.0001, 10000, kTup)\n",
    "    datMat=mat(dataArr); labelMat = mat(labelArr).transpose()\n",
    "    svInd=nonzero(alphas.A>0)[0]\n",
    "    sVs=datMat[svInd] \n",
    "    labelSV = labelMat[svInd];\n",
    "    print (\"there are %d Support Vectors\" % shape(sVs)[0])\n",
    "    m,n = shape(datMat)\n",
    "    errorCount = 0\n",
    "    for i in range(m):\n",
    "        kernelEval = kernelTrans(sVs,datMat[i,:],kTup)\n",
    "        predict=kernelEval.T * multiply(labelSV,alphas[svInd]) + b\n",
    "        if sign(predict)!=sign(labelArr[i]): errorCount += 1\n",
    "    print (\"the training error rate is: %f\" % (float(errorCount)/m))\n",
    "    dataArr,labelArr = loadImages('testDigits')\n",
    "    errorCount = 0\n",
    "    datMat=mat(dataArr); labelMat = mat(labelArr).transpose()\n",
    "    m,n = shape(datMat)\n",
    "    for i in range(m):\n",
    "        kernelEval = kernelTrans(sVs,datMat[i,:],kTup)\n",
    "        predict=kernelEval.T * multiply(labelSV,alphas[svInd]) + b\n",
    "        if sign(predict)!=sign(labelArr[i]): errorCount += 1    \n",
    "    print (\"the test error rate is: %f\" % (float(errorCount)/m) )"
   ]
  },
  {
   "cell_type": "code",
   "execution_count": 115,
   "metadata": {},
   "outputs": [
    {
     "name": "stdout",
     "output_type": "stream",
     "text": [
      "there are 61 Support Vectors\n",
      "the training error rate is: 0.000000\n",
      "the test error rate is: 0.010753\n"
     ]
    }
   ],
   "source": [
    "testDigits(('rbf', 20))"
   ]
  },
  {
   "cell_type": "code",
   "execution_count": null,
   "metadata": {
    "collapsed": true
   },
   "outputs": [],
   "source": []
  }
 ],
 "metadata": {
  "kernelspec": {
   "display_name": "Python 3",
   "language": "python",
   "name": "python3"
  },
  "language_info": {
   "codemirror_mode": {
    "name": "ipython",
    "version": 3
   },
   "file_extension": ".py",
   "mimetype": "text/x-python",
   "name": "python",
   "nbconvert_exporter": "python",
   "pygments_lexer": "ipython3",
   "version": "3.6.1"
  }
 },
 "nbformat": 4,
 "nbformat_minor": 2
}
